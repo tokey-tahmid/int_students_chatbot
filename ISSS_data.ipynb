{
 "cells": [
  {
   "cell_type": "code",
   "execution_count": 33,
   "id": "65f0a038",
   "metadata": {},
   "outputs": [
    {
     "name": "stdout",
     "output_type": "stream",
     "text": [
      "Data extracted and saved to 'training_data/visa-funding.txt'\n",
      "Data extracted and saved to 'training_data/visa-denial-and-delays.txt'\n",
      "Data extracted and saved to 'training_data/arriving-in-knoxville.txt'\n",
      "Data extracted and saved to 'training_data/immigration-advising.txt'\n",
      "Data extracted and saved to 'training_data/full-time-enrollment.txt'\n",
      "Data extracted and saved to 'training_data/local-address-requirement.txt'\n",
      "Data extracted and saved to 'training_data/dependents.txt'\n",
      "Data extracted and saved to 'training_data/maintaining-visa-status.txt'\n",
      "Data extracted and saved to 'training_data/traveling-while-on-visa.txt'\n",
      "Data extracted and saved to 'training_data/healthcare-at-utk.txt'\n",
      "Data extracted and saved to 'training_data/transfer-from-utk.txt'\n",
      "Data extracted and saved to 'training_data/campus-employment.txt'\n",
      "Data extracted and saved to 'training_data/internships.txt'\n",
      "Data extracted and saved to 'training_data/training-on-j1.txt'\n",
      "Data extracted and saved to 'training_data/opt-on-f1.txt'\n"
     ]
    }
   ],
   "source": [
    "import requests\n",
    "from bs4 import BeautifulSoup\n",
    "\n",
    "def scrape_and_save(url, filename):\n",
    "    # Define headers to mimic a browser request\n",
    "    headers = {\n",
    "        \"User-Agent\": \"Mozilla/5.0 (Windows NT 10.0; Win64; x64) AppleWebKit/537.36 (KHTML, like Gecko) Chrome/58.0.3029.110 Safari/537.3\"\n",
    "    }\n",
    "\n",
    "    # Send a GET request to the URL with headers\n",
    "    response = requests.get(url, headers=headers)\n",
    "\n",
    "    # Check if the request was successful (status code 200)\n",
    "    if response.status_code == 200:\n",
    "        # Parse the HTML content of the webpage\n",
    "        soup = BeautifulSoup(response.content, 'html.parser')\n",
    "        \n",
    "        # Find all elements with the specified class\n",
    "        main_content = soup.findAll(\"div\", class_=\"entry-content reg\")\n",
    "        \n",
    "        # Initialize an empty string to store the extracted text\n",
    "        extracted_text = \"\"\n",
    "        \n",
    "        # Iterate over each element in the ResultSet\n",
    "        for content in main_content:\n",
    "            # Extract text without HTML tags for each element\n",
    "            text_without_tags = content.get_text(separator=\"\\n\")\n",
    "            \n",
    "            # Append the extracted text to the string\n",
    "            extracted_text += text_without_tags + \"\\n\"\n",
    "        \n",
    "        # Save the extracted text to a text file\n",
    "        with open(filename, \"w\", encoding=\"utf-8\") as file:\n",
    "            file.write(extracted_text)\n",
    "            \n",
    "        print(f\"Data extracted and saved to '{filename}'\")\n",
    "    else:\n",
    "        print(\"Failed to retrieve data from the URL:\", url)\n",
    "\n",
    "# List of URLs and corresponding filenames\n",
    "urls = [\n",
    "    (\"https://international.utk.edu/visa-funding/\", \"training_data/visa-funding.txt\"),\n",
    "    (\"https://international.utk.edu/visa-denials-delays-and-administrative-processing/\", \"training_data/visa-denial-and-delays.txt\"),\n",
    "    (\"https://international.utk.edu/arriving-in-knoxville/\", \"training_data/arriving-in-knoxville.txt\"),\n",
    "    (\"https://international.utk.edu/international-students-and-scholars-services/current-students/advising/\", \"training_data/immigration-advising.txt\"),\n",
    "    (\"https://international.utk.edu/international-students-and-scholars-services/current-students/maintaining-status/full-time-enrollment/\", \"training_data/full-time-enrollment.txt\"),\n",
    "    (\"https://international.utk.edu/international-students-and-scholars-services/current-students/maintaining-status/local-address-requirement/\", \"training_data/local-address-requirement.txt\"),\n",
    "    (\"https://international.utk.edu/international-students-and-scholars-services/current-students/maintaining-status/dependents-spouse-and-children/\", \"training_data/dependents.txt\"),\n",
    "    (\"https://international.utk.edu/international-students-and-scholars-services/current-students/maintaining-status/consequences-of-not-maintaining-status/\", \"training_data/maintaining-visa-status.txt\"),\n",
    "    (\"https://international.utk.edu/international-students-and-scholars-services/current-students/traveling-inside-and-outside-the-u-s/\", \"training_data/traveling-while-on-visa.txt\"),\n",
    "    (\"https://international.utk.edu/international-students-and-scholars-services/current-students/health-care-and-insurance/affordable-health-care-options/\", \"training_data/healthcare-at-utk.txt\"),\n",
    "    (\"https://international.utk.edu/international-students-and-scholars-services/current-students/transferring-out-of-utk/\", \"training_data/transfer-from-utk.txt\"),\n",
    "    (\"https://international.utk.edu/training/on-campus-employment/\", \"training_data/campus-employment.txt\"),\n",
    "    (\"https://international.utk.edu/training/internships-and-practical-training/\", \"training_data/internships.txt\"),\n",
    "    (\"https://international.utk.edu/training/academic-training-for-j-1-students/\", \"training_data/training-on-j1.txt\"),\n",
    "    (\"https://international.utk.edu/training/optional-practical-training-opt-for-f-1-students/\", \"training_data/opt-on-f1.txt\"),\n",
    "]\n",
    "\n",
    "# Loop through each URL and filename pair\n",
    "for url, filename in urls:\n",
    "    scrape_and_save(url, filename)\n"
   ]
  },
  {
   "cell_type": "code",
   "execution_count": null,
   "id": "a4dacf96",
   "metadata": {},
   "outputs": [],
   "source": []
  }
 ],
 "metadata": {
  "kernelspec": {
   "display_name": "Python 3 (ipykernel)",
   "language": "python",
   "name": "python3"
  },
  "language_info": {
   "codemirror_mode": {
    "name": "ipython",
    "version": 3
   },
   "file_extension": ".py",
   "mimetype": "text/x-python",
   "name": "python",
   "nbconvert_exporter": "python",
   "pygments_lexer": "ipython3",
   "version": "3.11.5"
  }
 },
 "nbformat": 4,
 "nbformat_minor": 5
}
